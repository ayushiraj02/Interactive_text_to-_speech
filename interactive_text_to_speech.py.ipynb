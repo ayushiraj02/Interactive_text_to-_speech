{
 "cells": [
  {
   "cell_type": "code",
   "execution_count": 10,
   "id": "7b55b9c5-e1b3-444e-b25c-9dd3ff826819",
   "metadata": {},
   "outputs": [
    {
     "name": "stdout",
     "output_type": "stream",
     "text": [
      "Requirement already satisfied: SpeechRecognition in d:\\anaconda\\lib\\site-packages (3.10.4)\n",
      "Requirement already satisfied: pyttsx3 in d:\\anaconda\\lib\\site-packages (2.90)\n",
      "Requirement already satisfied: pyaudio in d:\\anaconda\\lib\\site-packages (0.2.14)\n",
      "Requirement already satisfied: requests>=2.26.0 in d:\\anaconda\\lib\\site-packages (from SpeechRecognition) (2.32.2)\n",
      "Requirement already satisfied: typing-extensions in d:\\anaconda\\lib\\site-packages (from SpeechRecognition) (4.11.0)\n",
      "Requirement already satisfied: comtypes in d:\\anaconda\\lib\\site-packages (from pyttsx3) (1.4.6)\n",
      "Requirement already satisfied: pypiwin32 in d:\\anaconda\\lib\\site-packages (from pyttsx3) (223)\n",
      "Requirement already satisfied: pywin32 in d:\\anaconda\\lib\\site-packages (from pyttsx3) (305.1)\n",
      "Requirement already satisfied: charset-normalizer<4,>=2 in d:\\anaconda\\lib\\site-packages (from requests>=2.26.0->SpeechRecognition) (2.0.4)\n",
      "Requirement already satisfied: idna<4,>=2.5 in d:\\anaconda\\lib\\site-packages (from requests>=2.26.0->SpeechRecognition) (3.7)\n",
      "Requirement already satisfied: urllib3<3,>=1.21.1 in d:\\anaconda\\lib\\site-packages (from requests>=2.26.0->SpeechRecognition) (2.2.2)\n",
      "Requirement already satisfied: certifi>=2017.4.17 in d:\\anaconda\\lib\\site-packages (from requests>=2.26.0->SpeechRecognition) (2024.7.4)\n"
     ]
    }
   ],
   "source": [
    "!pip install SpeechRecognition pyttsx3 pyaudio\n"
   ]
  },
  {
   "cell_type": "code",
   "execution_count": 21,
   "id": "0cce85ac-ea0b-4a63-a8f0-e61944ebee51",
   "metadata": {},
   "outputs": [],
   "source": [
    "import pyttsx3\n",
    "\n",
    "class TextToSpeechAssistant:\n",
    "    def __init__(self):\n",
    "        self.engine = pyttsx3.init()\n",
    "\n",
    "    def speak(self, text):\n",
    "        self.engine.say(text)\n",
    "        self.engine.runAndWait()\n",
    "\n",
    "# Create an instance of the TextToSpeechAssistant\n",
    "assistant = TextToSpeechAssistant()\n",
    "\n",
    "# Example text to speak\n",
    "text_to_speak = \"hello, Hii this is AI Assistant !\"\n",
    "\n",
    "# Speak the text\n",
    "assistant.speak(text_to_speak)\n"
   ]
  },
  {
   "cell_type": "markdown",
   "id": "9dae5faf-e5fd-4480-8582-d8cdac3c8a45",
   "metadata": {},
   "source": [
    "If User want to give text continuosly then code will be following:-"
   ]
  },
  {
   "cell_type": "code",
   "execution_count": 18,
   "id": "9a2b593c-5499-4f1d-80ad-1a5f75a02c35",
   "metadata": {},
   "outputs": [
    {
     "name": "stdin",
     "output_type": "stream",
     "text": [
      "Enter text to speak (or type 'exit' to quit):  hii\n",
      "Enter text to speak (or type 'exit' to quit):  exit\n"
     ]
    },
    {
     "name": "stdout",
     "output_type": "stream",
     "text": [
      "Exiting...\n"
     ]
    }
   ],
   "source": [
    "import pyttsx3\n",
    "\n",
    "class TextToSpeechAssistant:\n",
    "    def __init__(self):\n",
    "        self.engine = pyttsx3.init()\n",
    "        self.engine.setProperty('rate', 150)  # Speed of speech\n",
    "        self.engine.setProperty('volume', 0.9)  # Volume level (0.0 to 1.0)\n",
    "\n",
    "    def speak(self, text):\n",
    "        self.engine.say(text)\n",
    "        self.engine.runAndWait()\n",
    "\n",
    "    def run(self):\n",
    "        while True:\n",
    "            # Get user input\n",
    "            user_input = input(\"Enter text to speak (or type 'exit' to quit): \")\n",
    "\n",
    "            # Exit condition\n",
    "            if user_input.lower() == 'exit':\n",
    "                print(\"Exiting...\")\n",
    "                break\n",
    "\n",
    "            # Speak the text\n",
    "            self.speak(user_input)\n",
    "\n",
    "# Create an instance of the TextToSpeechAssistant\n",
    "assistant = TextToSpeechAssistant()\n",
    "\n",
    "# Run the assistant\n",
    "assistant.run()\n"
   ]
  },
  {
   "cell_type": "code",
   "execution_count": null,
   "id": "172edae7-643b-4e2e-a0f6-c970f29ce151",
   "metadata": {},
   "outputs": [],
   "source": []
  }
 ],
 "metadata": {
  "kernelspec": {
   "display_name": "Python 3 (ipykernel)",
   "language": "python",
   "name": "python3"
  },
  "language_info": {
   "codemirror_mode": {
    "name": "ipython",
    "version": 3
   },
   "file_extension": ".py",
   "mimetype": "text/x-python",
   "name": "python",
   "nbconvert_exporter": "python",
   "pygments_lexer": "ipython3",
   "version": "3.12.4"
  }
 },
 "nbformat": 4,
 "nbformat_minor": 5
}
